{
 "metadata": {
  "language_info": {
   "codemirror_mode": {
    "name": "ipython",
    "version": 3
   },
   "file_extension": ".py",
   "mimetype": "text/x-python",
   "name": "python",
   "nbconvert_exporter": "python",
   "pygments_lexer": "ipython3",
   "version": "3.8.10"
  },
  "orig_nbformat": 2,
  "kernelspec": {
   "name": "python3810jvsc74a57bd0f88cf6442f383c909ddd9bb13dccea16a316156991f66d0bc976c0d2d2070836",
   "display_name": "Python 3.8.10 64-bit ('deeple-new': conda)"
  }
 },
 "nbformat": 4,
 "nbformat_minor": 2,
 "cells": [
  {
   "cell_type": "code",
   "execution_count": null,
   "metadata": {},
   "outputs": [],
   "source": [
    "import numpy as np"
   ]
  },
  {
   "cell_type": "code",
   "execution_count": null,
   "metadata": {},
   "outputs": [],
   "source": [
    "import tensorflow as tf\n",
    "from tensorflow.keras import layers"
   ]
  },
  {
   "cell_type": "code",
   "execution_count": null,
   "metadata": {},
   "outputs": [],
   "source": [
    "from igrads import integrated_gradients"
   ]
  },
  {
   "cell_type": "code",
   "execution_count": null,
   "metadata": {},
   "outputs": [],
   "source": [
    "base2int = {'A': 0, 'C': 1, 'G': 2, 'T': 3}\n",
    "\n",
    "def load_fasta(fasta):\n",
    "    with open(fasta) as f:\n",
    "        for line in f:\n",
    "            if line[0] != '>':\n",
    "                raise ValueError('Header not found.')\n",
    "            header = line.strip()[1:]\n",
    "            sequence = f.readline().strip()\n",
    "            sequence = np.array([base2int.get(b, 999) for b in sequence])\n",
    "            sequence = tf.one_hot(sequence, depth = 4)\n",
    "            yield sequence"
   ]
  },
  {
   "cell_type": "code",
   "execution_count": null,
   "metadata": {},
   "outputs": [],
   "source": [
    "positives = [s for s in load_fasta('./data/positive.fasta')]\n",
    "negatives = [s for s in load_fasta('./data/negative.fasta')]"
   ]
  },
  {
   "cell_type": "code",
   "execution_count": null,
   "metadata": {},
   "outputs": [],
   "source": [
    "X = np.stack(positives + negatives)"
   ]
  },
  {
   "cell_type": "code",
   "execution_count": null,
   "metadata": {},
   "outputs": [],
   "source": [
    "X.shape"
   ]
  },
  {
   "cell_type": "code",
   "execution_count": null,
   "metadata": {},
   "outputs": [],
   "source": [
    "Y = np.hstack([np.ones((len(positives), )), np.zeros((len(negatives), ))])"
   ]
  },
  {
   "cell_type": "code",
   "execution_count": null,
   "metadata": {},
   "outputs": [],
   "source": [
    "Y.shape"
   ]
  },
  {
   "cell_type": "code",
   "execution_count": null,
   "metadata": {},
   "outputs": [],
   "source": [
    "model = tf.keras.models.Sequential()\n",
    "model.add(layers.Input((101, 4)))\n",
    "model.add(layers.Conv1D(64, 10, activation='relu', padding='same'))\n",
    "model.add(layers.MaxPool1D(2))\n",
    "model.add(layers.Conv1D(64, 3, activation='relu', padding='same'))\n",
    "model.add(layers.MaxPool1D(2))\n",
    "model.add(layers.Conv1D(64, 3, activation='relu', padding='same'))\n",
    "model.add(layers.MaxPool1D(2))\n",
    "model.add(layers.Flatten())\n",
    "model.add(layers.Dense(32, activation='relu'))\n",
    "model.add(layers.Dense(1, activation='sigmoid'))\n",
    "\n",
    "model.compile(loss='binary_crossentropy', metrics = [\"accuracy\"])\n",
    "model.summary()"
   ]
  },
  {
   "cell_type": "code",
   "execution_count": null,
   "metadata": {},
   "outputs": [],
   "source": [
    "#history = model.fit(x = X, y = Y, epochs = 2, shuffle=True, batch_size=128)\n",
    "#model.save('model.h5')\n",
    "\n",
    "model = tf.keras.models.load_model('model.h5')"
   ]
  },
  {
   "cell_type": "code",
   "execution_count": null,
   "metadata": {},
   "outputs": [],
   "source": [
    "X = positives = [s for s in load_fasta('./data/sequences.fasta')]"
   ]
  },
  {
   "cell_type": "code",
   "execution_count": null,
   "metadata": {},
   "outputs": [],
   "source": [
    "attributions = []\n",
    "for inputs in X[:5]:\n",
    "    inputs = tf.constant(inputs, dtype=tf.float32)\n",
    "    attribution = integrated_gradients(inputs, model).numpy()\n",
    "    attributions.append(attribution)"
   ]
  },
  {
   "cell_type": "code",
   "execution_count": null,
   "metadata": {},
   "outputs": [],
   "source": [
    "#"
   ]
  },
  {
   "cell_type": "code",
   "execution_count": null,
   "metadata": {},
   "outputs": [],
   "source": [
    "from igrads import plot_sequence_attribution"
   ]
  },
  {
   "cell_type": "code",
   "execution_count": null,
   "metadata": {},
   "outputs": [],
   "source": [
    "for attribution in attributions:\n",
    "    plot_sequence_attribution(attribution)"
   ]
  },
  {
   "cell_type": "code",
   "execution_count": null,
   "metadata": {},
   "outputs": [],
   "source": [
    "attribution"
   ]
  },
  {
   "cell_type": "code",
   "execution_count": null,
   "metadata": {},
   "outputs": [],
   "source": [
    "import pandas as pd\n",
    "import logomaker"
   ]
  },
  {
   "cell_type": "code",
   "execution_count": null,
   "metadata": {},
   "outputs": [],
   "source": [
    "def plot_dna_attribution(attribution_matrix):\n",
    "    attribution_df = pd.DataFrame(attribution_matrix, columns=['A', 'C', 'G', 'T'])\n",
    "\n",
    "    # create Logo object\n",
    "    attribution_logo = logomaker.Logo(attribution_df,\n",
    "                            shade_below=.5,\n",
    "                            fade_below=.5,\n",
    "                            font_name='Arial Rounded MT Bold')\n",
    "\n",
    "    # style using Logo methods\n",
    "    attribution_logo.style_spines(visible=False)\n",
    "    attribution_logo.style_spines(spines=['left', 'bottom'], visible=True)\n",
    "    attribution_logo.style_xticks(rotation=90, fmt='%d', anchor=0)\n",
    "\n",
    "    # style using Axes methods\n",
    "    attribution_logo.ax.set_ylabel(\"IG Attribution\", labelpad=-1)\n",
    "    attribution_logo.ax.xaxis.set_tick_params(which='both', bottom=False, top=False, labelbottom=False)"
   ]
  },
  {
   "cell_type": "code",
   "execution_count": null,
   "metadata": {},
   "outputs": [],
   "source": [
    "plot_dna_attribution(attribution.numpy())"
   ]
  }
 ]
}